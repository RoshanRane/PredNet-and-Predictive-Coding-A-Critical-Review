{
 "cells": [
  {
   "cell_type": "markdown",
   "metadata": {},
   "source": [
    "# Importing Libraries"
   ]
  },
  {
   "cell_type": "code",
   "execution_count": 1,
   "metadata": {},
   "outputs": [],
   "source": [
    "%load_ext autoreload\n",
    "%autoreload 2\n",
    "%matplotlib inline"
   ]
  },
  {
   "cell_type": "code",
   "execution_count": 2,
   "metadata": {},
   "outputs": [
    {
     "name": "stderr",
     "output_type": "stream",
     "text": [
      "Using TensorFlow backend.\n"
     ]
    }
   ],
   "source": [
    "import json\n",
    "import glob\n",
    "import os\n",
    "import numpy as np\n",
    "import pandas as pd\n",
    "from matplotlib import pyplot as plt\n",
    "\n",
    "import tensorflow as tf\n",
    "import keras, keras_preprocessing\n",
    "from keras.utils import to_categorical\n",
    "from keras import backend as K\n",
    "from keras.layers import Input, Dense, Flatten\n",
    "from keras.layers import LSTM, Lambda\n",
    "from keras.layers import TimeDistributed\n",
    "from keras.callbacks import LearningRateScheduler, ModelCheckpoint\n",
    "from keras.callbacks import EarlyStopping\n",
    "from keras.preprocessing.image import Iterator\n",
    "from keras.models import load_model\n",
    "from keras.models import Model, model_from_json\n",
    "\n",
    "import warnings\n",
    "warnings.filterwarnings('ignore')\n",
    "\n",
    "from viz_utils import plot_loss_curves, plot_errors, plot_changes_in_r, return_difference\n",
    "from viz_utils import conditioned_ssim, sharpness_difference_grad, sharpness, sharpness_difference\n",
    "\n",
    "os.environ[\"CUDA_VISIBLE_DEVICES\"] = \"2\"\n",
    "os.environ[\"CUDA_DEVICE_ORDER\"]=\"PCI_BUS_ID\"\n",
    "os.environ['TF_CPP_MIN_LOG_LEVEL'] = '2' \n",
    "plt.rcParams['figure.figsize'] = 30,15"
   ]
  },
  {
   "cell_type": "code",
   "execution_count": 3,
   "metadata": {},
   "outputs": [],
   "source": [
    "from viz_utils import *\n",
    "from mpl_toolkits.axes_grid1 import make_axes_locatable"
   ]
  },
  {
   "cell_type": "markdown",
   "metadata": {},
   "source": [
    "# Initializing globals"
   ]
  },
  {
   "cell_type": "code",
   "execution_count": 4,
   "metadata": {},
   "outputs": [],
   "source": [
    "# delete old models folder\n",
    "suffix = \"1ss\" # set to \"\" for 4 numbers\n",
    "out_folder = \"moving_mnist_results_plus2\"\n",
    "seed = None\n",
    "# np.random.seed(seed)\n",
    "# tf.set_random_seed(seed)\n",
    "\n",
    "data_dict = {\n",
    "    \"weight_dir\" : os.path.join(os.getcwd(), out_folder),\n",
    "    \"result_dir\" : os.path.join(os.getcwd(), out_folder, \"results\"),\n",
    "    \"json_file\" : os.path.join(os.getcwd(), out_folder, \"model.json\"),\n",
    "    \"weights_file\": os.path.join(os.path.join(os.getcwd(), out_folder), 'prednet_mnist_weights.hdf5'),\n",
    "    \"json_file\": os.path.join(os.path.join(os.getcwd(), out_folder), 'prednet_mnist_model.json'),\n",
    "    \"nt\": 18,\n",
    "    \"datafile\" : \"../data/data{}.npy\".format(suffix),\n",
    "    \"datalabelsfile\" : \"../data/data{}_labels.npy\".format(suffix),\n",
    "    \"nval\" : 1000,\n",
    "    \"nb_epochs\" : 150,\n",
    "    \"batch_size\" : 32,\n",
    "    \"samples_per_epoch\" : None,\n",
    "    \"N_seq_val\" : None,\n",
    "    \"n_channels\" : 1,\n",
    "    \"im_height\" : 64,\n",
    "    \"im_width\" : 64,\n",
    "    \"n_chan_layer\" : [32, 64, 96, 128], #(1,32,64,128,256)\n",
    "    \"n_chan_R_layer\" : [],\n",
    "    \"layer_loss\" : [1., 0., 0., 0., 0.],\n",
    "    \"a_filt_sizes\": (3, 3, 3, 3),\n",
    "    \"ahat_filt_sizes\": (3, 3, 3, 3, 3),\n",
    "    \"r_filt_sizes\": (3, 3, 3, 3, 3),\n",
    "    \"lr\": 0.0003, # 0.001- 0.0008 - 0.0005 - 0.0001\n",
    "    \"lr_reduce_epoch\": 10,\n",
    "    \"multitask\": True,\n",
    "    \"std_param\": 0.5,\n",
    "    \"strided_conv_pool\": False,\n",
    "    \"nb_classes\" : 8,\n",
    "    \"n_chan_lbl_layer\" : [256],\n",
    "    \"second_loss_weight\":0.0005\n",
    "    }"
   ]
  },
  {
   "cell_type": "markdown",
   "metadata": {},
   "source": [
    "# Loading Data"
   ]
  },
  {
   "cell_type": "code",
   "execution_count": 5,
   "metadata": {},
   "outputs": [
    {
     "name": "stdout",
     "output_type": "stream",
     "text": [
      "loaded dataset ../data/data1ss.npy with shape=(10000, 20, 1, 64, 64)\n",
      "train split shape=(9000, 20, 64, 64, 1)\t val split shape=(1000, 20, 64, 64, 1)\n"
     ]
    }
   ],
   "source": [
    "# Load moving numbers dataset\n",
    "data = np.load(data_dict[\"datafile\"]).astype(float) / 255\n",
    "labels = np.load(data_dict[\"datalabelsfile\"])\n",
    "print(\"loaded dataset {} with shape={}\".format(data_dict[\"datafile\"], data.shape))\n",
    "# move channel axis to the end and split into train and test\n",
    "data = np.moveaxis(data, 2, -1)\n",
    "\n",
    "_n = 0\n",
    "train_data = data[_n:-data_dict[\"nval\"],]\n",
    "val_data = data[-data_dict[\"nval\"]:,]\n",
    "train_label = labels[_n:-data_dict[\"nval\"]]\n",
    "val_label = labels[-data_dict[\"nval\"]:]\n",
    "assert train_data.shape[0] == train_label.shape[0]\n",
    "assert val_data.shape[0] == val_label.shape[0]\n",
    "\n",
    "n, nt, im_height, im_width, n_channels =  train_data.shape\n",
    "print(\"train split shape={}\\t val split shape={}\".format(train_data.shape, val_data.shape))"
   ]
  },
  {
   "cell_type": "code",
   "execution_count": 6,
   "metadata": {},
   "outputs": [],
   "source": [
    "# reformulate as a 8-class classification problem\n",
    "directions = [\"left\",\"top-left\",\"top\",\"top-right\",\n",
    "              \"right\",\"bot-right\",\"bot\",\"bot-left\"]"
   ]
  },
  {
   "cell_type": "code",
   "execution_count": 7,
   "metadata": {
    "scrolled": false
   },
   "outputs": [
    {
     "data": {
      "image/png": "[encoded data removed]",
      "text/plain": [
       "<Figure size 3888x288 with 8 Axes>"
      ]
     },
     "metadata": {
      "needs_background": "light"
     },
     "output_type": "display_data"
    }
   ],
   "source": [
    "# plot 5 samples\n",
    "rand_idxs = np.random.randint(0, len(train_data), 1)\n",
    "\n",
    "n = data_dict[\"nt\"] if data_dict[\"nt\"]<=8 else 8 \n",
    "for i in rand_idxs:\n",
    "    x = train_data[i]\n",
    "    label = labels[i]\n",
    "        \n",
    "    f,axs = plt.subplots(1,n,figsize=(3*data_dict[\"nt\"],4))\n",
    "    for j in range(n):\n",
    "        axs[j].axis(\"off\")\n",
    "        axs[j].imshow(x[j].squeeze())\n",
    "        axs[j].set_title(directions[int(label[j,0,-1])], fontdict = {'fontsize' : 400//data_dict[\"nt\"]})\n",
    "        \n",
    "    plt.subplots_adjust(wspace=0.0001, hspace=0.0001)\n",
    "    plt.show()"
   ]
  },
  {
   "cell_type": "markdown",
   "metadata": {},
   "source": [
    "# Building and training model"
   ]
  },
  {
   "cell_type": "code",
   "execution_count": 8,
   "metadata": {},
   "outputs": [],
   "source": [
    "from prednet import PredNet"
   ]
  },
  {
   "cell_type": "code",
   "execution_count": 9,
   "metadata": {},
   "outputs": [],
   "source": [
    "# create weight directory if it does not exist\n",
    "if not os.path.exists(data_dict[\"weight_dir\"]):\n",
    "    os.makedirs(data_dict[\"weight_dir\"])\n",
    "    os.chmod(data_dict['weight_dir'], mode=0o777)\n",
    "    \n",
    "if not os.path.exists(data_dict[\"result_dir\"]):\n",
    "    os.makedirs(data_dict[\"result_dir\"])\n",
    "    os.chmod(data_dict['result_dir'], mode=0o777)"
   ]
  },
  {
   "cell_type": "code",
   "execution_count": 10,
   "metadata": {},
   "outputs": [],
   "source": [
    "n_channels, im_height, im_width = (data_dict['n_channels'], data_dict['im_height'], data_dict['im_width'])\n",
    "input_shape = (n_channels, im_height, im_width) if K.image_data_format() == 'channels_first' else (\n",
    "        im_height, im_width, n_channels)\n",
    "stack_sizes = tuple([data_dict[\"n_channels\"]] + data_dict[\"n_chan_layer\"])\n",
    "if(len(data_dict[\"n_chan_R_layer\"]) != 0): \n",
    "    r_stack_sizes = tuple([data_dict[\"n_channels\"]] + data_dict[\"n_chan_R_layer\"])\n",
    "else:\n",
    "    r_stack_sizes = stack_sizes"
   ]
  },
  {
   "cell_type": "code",
   "execution_count": 11,
   "metadata": {},
   "outputs": [],
   "source": [
    "# weighting for each layer in final loss; \"L_0\" model:  [1, 0, 0, 0], \"L_all\": [1, 0.1, 0.1, 0.1]\n",
    "# Checking if all the values in layer_loss are between 0.0 and 1.0\n",
    "# Checking if the length of all layer loss list is equal to the number of prednet layers\n",
    "assert all(1.0 >= i >= 0.0 for i in data_dict[\"layer_loss\"]) and len(data_dict[\"layer_loss\"]) == len(stack_sizes)\n",
    "layer_loss_weights = np.array(data_dict[\"layer_loss\"])\n",
    "layer_loss_weights = np.expand_dims(layer_loss_weights, 1)\n",
    "\n",
    "# equally weight all timesteps except the first\n",
    "time_steps = data_dict[\"nt\"]\n",
    "time_loss_weights = 1. / (time_steps - 1) * np.ones((time_steps, 1))\n",
    "time_loss_weights[0] = 0"
   ]
  },
  {
   "cell_type": "code",
   "execution_count": 12,
   "metadata": {},
   "outputs": [],
   "source": [
    "inputs = Input(shape=(time_steps,) + input_shape)\n",
    "nb_layers = len(data_dict['n_chan_layer'])+1"
   ]
  },
  {
   "cell_type": "code",
   "execution_count": 13,
   "metadata": {},
   "outputs": [],
   "source": [
    "# sparse_categorial_crossentropy_with_logits loss function for labels\n",
    "def CEloss(y_true, y_pred, n=data_dict['nt']):\n",
    "    loss = 0\n",
    "    for i in range(n):\n",
    "        loss += K.categorical_crossentropy(target=y_true[:,i], output=y_pred[:,i])\n",
    "    loss = (loss/n)*data_dict[\"second_loss_weight\"] # weighing the loss\n",
    "    return loss"
   ]
  },
  {
   "cell_type": "code",
   "execution_count": 14,
   "metadata": {
    "scrolled": false
   },
   "outputs": [
    {
     "name": "stdout",
     "output_type": "stream",
     "text": [
      "WARNING:tensorflow:From /home/users/rrane/.local/lib/python3.5/site-packages/keras/backend/tensorflow_backend.py:1188: calling reduce_sum (from tensorflow.python.ops.math_ops) with keep_dims is deprecated and will be removed in a future version.\n",
      "Instructions for updating:\n",
      "keep_dims is deprecated, use keepdims instead\n",
      "WARNING:tensorflow:From /home/users/rrane/.local/lib/python3.5/site-packages/keras/backend/tensorflow_backend.py:1205: calling reduce_prod (from tensorflow.python.ops.math_ops) with keep_dims is deprecated and will be removed in a future version.\n",
      "Instructions for updating:\n",
      "keep_dims is deprecated, use keepdims instead\n",
      "WARNING:tensorflow:From /home/users/rrane/.local/lib/python3.5/site-packages/keras/backend/tensorflow_backend.py:1290: calling reduce_mean (from tensorflow.python.ops.math_ops) with keep_dims is deprecated and will be removed in a future version.\n",
      "Instructions for updating:\n",
      "keep_dims is deprecated, use keepdims instead\n"
     ]
    }
   ],
   "source": [
    "if(data_dict['multitask']):\n",
    "        output_mode='error_and_label'\n",
    "        # Configuring the model\n",
    "        prednet = PredNet(stack_sizes, r_stack_sizes, data_dict[\"a_filt_sizes\"], data_dict[\"ahat_filt_sizes\"], \n",
    "                          data_dict[\"r_filt_sizes\"], return_sequences=True, output_mode=output_mode, \n",
    "                          strided_conv_pool=data_dict[\"strided_conv_pool\"], nb_classes=data_dict['nb_classes'],\n",
    "                          lbl_stack_sizes=data_dict['n_chan_lbl_layer']) \n",
    "        # errors will be (batch_size, nt, nb_layers), labels will be (batch_size, nt, num_classes)\n",
    "        errors_and_labels = prednet(inputs)\n",
    "        errors = Lambda(lambda x: x[:,:,:nb_layers], output_shape=(time_steps,nb_layers,))(errors_and_labels)\n",
    "        labels = Lambda(lambda x: x[:,:,nb_layers:], name='label', output_shape=(time_steps,data_dict['nb_classes']))(errors_and_labels)\n",
    "        \n",
    "        # calculate weighted error by layer\n",
    "        errors_by_time = TimeDistributed(Dense(1, trainable=False), weights=[layer_loss_weights, np.zeros(1)],\n",
    "                                         trainable=False)(errors)\n",
    "        # will be (batch_size, nt)\n",
    "        errors_by_time = Flatten()(errors_by_time)  \n",
    "        # weight errors by time\n",
    "        final_errors = Dense(1, weights=[time_loss_weights, np.zeros(1)], trainable=False, name='y')(\n",
    "            errors_by_time) \n",
    "\n",
    "        # weighed sum of all label predictions over time\n",
    "#         labels = Lambda(lambda x: K.permute_dimensions(x,(0,2,1)))(labels)\n",
    "        # get_exp_t_weights() returns the weights that start at 0.0 and raise exponentially to 1.0 and plateau. \n",
    "        # Motivated by our prior belief that the model is allowed to slowly learn the right prediction class over time.\n",
    "#         time_label_weights = get_exp_t_weights(time_steps)\n",
    "        # weight labels by time      \n",
    "#         final_labels = Dense(1, weights=[time_loss_weights, np.zeros(1)], trainable=False)(\n",
    "#             labels)\n",
    "\n",
    "#         final_labels = Flatten(name='label')(final_labels)\n",
    "        # final_labels = labels\n",
    "        model = Model(inputs=inputs, outputs=([final_errors, labels]))\n",
    "        \n",
    "        model.compile(\n",
    "            loss={'y': 'mean_absolute_error', 'label':CEloss }\n",
    "            , optimizer='adam'\n",
    "            , metrics={'y': ['mse'], 'label': ['acc']}\n",
    "            )\n",
    "else:\n",
    "    output_mode='error'\n",
    "    prednet = PredNet(stack_sizes, r_stack_sizes,\n",
    "                      data_dict[\"a_filt_sizes\"], data_dict[\"ahat_filt_sizes\"], data_dict[\"r_filt_sizes\"],\n",
    "                      output_mode=output_mode, return_sequences=True)\n",
    "    errors = prednet(inputs)\n",
    "    \n",
    "    errors_by_time = TimeDistributed(Dense(1, trainable=False), weights=[layer_loss_weights, np.zeros(1)], trainable=False)(errors)  # calculate weighted error by layer\n",
    "    errors_by_time = Flatten()(errors_by_time)  # will be (batch_size, nt)\n",
    "    final_errors = Dense(1, weights=[time_loss_weights, np.zeros(1)], trainable=False)(errors_by_time)  # weight errors by time\n",
    "    model = Model(inputs=inputs, outputs=final_errors)\n",
    "    model.compile(loss=data_dict['loss'], optimizer='adam')"
   ]
  },
  {
   "cell_type": "code",
   "execution_count": 15,
   "metadata": {},
   "outputs": [
    {
     "name": "stdout",
     "output_type": "stream",
     "text": [
      "____________________________________________________________________________________________________\n",
      "Layer (type)                     Output Shape          Param #     Connected to                     \n",
      "====================================================================================================\n",
      "input_1 (InputLayer)             (None, 18, 64, 64, 1) 0                                            \n",
      "____________________________________________________________________________________________________\n",
      "pred_net_1 (PredNet)             (None, 18, 13)        7416794     input_1[0][0]                    \n",
      "____________________________________________________________________________________________________\n",
      "lambda_1 (Lambda)                (None, 18, 5)         0           pred_net_1[0][0]                 \n",
      "____________________________________________________________________________________________________\n",
      "time_distributed_1 (TimeDistribu (None, 18, 1)         6           lambda_1[0][0]                   \n",
      "____________________________________________________________________________________________________\n",
      "flatten_1 (Flatten)              (None, 18)            0           time_distributed_1[0][0]         \n",
      "____________________________________________________________________________________________________\n",
      "y (Dense)                        (None, 1)             19          flatten_1[0][0]                  \n",
      "____________________________________________________________________________________________________\n",
      "label (Lambda)                   (None, 18, 8)         0           pred_net_1[0][0]                 \n",
      "====================================================================================================\n",
      "Total params: 7,416,819\n",
      "Trainable params: 7,416,794\n",
      "Non-trainable params: 25\n",
      "____________________________________________________________________________________________________\n"
     ]
    }
   ],
   "source": [
    "model.summary()"
   ]
  },
  {
   "cell_type": "markdown",
   "metadata": {},
   "source": [
    "# Creating Sequence generator class"
   ]
  },
  {
   "cell_type": "code",
   "execution_count": 16,
   "metadata": {},
   "outputs": [],
   "source": [
    "# Data generator that creates sequences for input into PredNet.\n",
    "class SequenceGenerator(Iterator):\n",
    "    def __init__(self, data, nt, labels, data_dict, batch_size=8, shuffle=True, seed=None,\n",
    "                 output_mode='error', sequence_start_mode='all', N_seq=None, n_classes=10,\n",
    "                 data_format=K.image_data_format()):\n",
    "        self.X = data  # X will be like (n_images, nb_cols, nb_rows, nb_channels)\n",
    "        # self.sources = hkl.load(source_file) # source for each image so when creating sequences can assure that consecutive frames are from same video\n",
    "        self.nt = nt\n",
    "        self.batch_size = batch_size\n",
    "        self.labels = labels\n",
    "        self.n_classes = n_classes\n",
    "        self.data_format = data_format\n",
    "        assert sequence_start_mode in {'all', 'unique'}, 'sequence_start_mode must be in {all, unique}'\n",
    "        self.sequence_start_mode = sequence_start_mode\n",
    "        assert output_mode in {'error', 'prediction', 'label', 'error_and_label', 'prediction_and_label'}, 'output_mode must be in {error, prediction, label, error_and_label, prediction_and_label}'\n",
    "        self.output_mode = output_mode\n",
    "\n",
    "        if self.data_format == 'channels_first':\n",
    "            self.X = np.transpose(self.X, (0, 3, 1, 2))\n",
    "        self.im_shape = self.X[0][0].shape\n",
    "\n",
    "        if self.sequence_start_mode == 'all':  # allow for any possible sequence, starting from any frame\n",
    "            self.possible_starts = np.array(range(0, self.X.shape[1]-self.nt))\n",
    "\n",
    "        if shuffle:\n",
    "            self.possible_starts = np.random.permutation(self.possible_starts)\n",
    "        if N_seq is not None and len(self.possible_starts) > N_seq:  # select a subset of sequences if want to\n",
    "            self.possible_starts = self.possible_starts[:N_seq]\n",
    "        self.N_sequences = len(self.possible_starts)\n",
    "        super(SequenceGenerator, self).__init__(self.X.shape[0], batch_size, shuffle, seed)\n",
    "    \n",
    "    def next(self):\n",
    "        with self.lock:\n",
    "            index_array, current_index, current_batch_size = next(self.index_generator)\n",
    "        batch_x = np.zeros((current_batch_size, self.nt) + self.im_shape, np.float32)\n",
    "        batch_label = np.zeros((current_batch_size, self.nt, self.n_classes), np.int32)\n",
    "        for i, idx in enumerate(index_array):\n",
    "            vid_idx = np.random.choice(self.possible_starts)\n",
    "            batch_x[i] = self.preprocess(self.X[idx, vid_idx:vid_idx+self.nt])\n",
    "            batch_label[i] = to_categorical(\n",
    "                self.labels[idx, vid_idx:vid_idx+self.nt, 0, -1].astype(int), self.n_classes)\n",
    "        if self.output_mode == 'error':  # model outputs errors, so y should be zeros\n",
    "            batch_y = np.zeros(current_batch_size, np.float32)\n",
    "        elif self.output_mode == 'prediction':  # output actual pixels\n",
    "            batch_y = batch_x\n",
    "        elif 'label' in self.output_mode:\n",
    "            # one_hot_encode the label\n",
    "            labels = batch_label\n",
    "            if self.output_mode == 'label':\n",
    "                batch_y = labels\n",
    "            elif self.output_mode == 'error_and_label':         \n",
    "                batch_y = {'y': np.zeros(current_batch_size, np.float32), 'label': labels}\n",
    "            elif self.output_mode == 'prediction_and_label':            \n",
    "                batch_y = {'y': batch_x, 'label': labels}\n",
    "            else:\n",
    "                raise NotImplementedError\n",
    "        else:\n",
    "            raise NotImplementedError\n",
    "        \n",
    "        return batch_x, batch_y\n",
    "\n",
    "    def preprocess(self, X):\n",
    "        return X.astype(np.float32) / 255\n",
    "\n",
    "    def create_all(self):\n",
    "        X_all = np.zeros((self.N_sequences, self.nt) + self.im_shape, np.float32)\n",
    "        for i, idx in enumerate(self.possible_starts):\n",
    "            vid_idx = np.random.choice(self.possible_starts)\n",
    "            X_all[i] = self.preprocess(self.X[idx, vid_idx:vid_idx+self.nt])\n",
    "        return X_all"
   ]
  },
  {
   "cell_type": "code",
   "execution_count": 17,
   "metadata": {},
   "outputs": [],
   "source": [
    "if data_dict['multitask'] == True:\n",
    "    train_generator = SequenceGenerator(train_data, data_dict['nt'] , train_label, data_dict, batch_size=data_dict['batch_size'], output_mode='error_and_label', n_classes=data_dict[\"nb_classes\"], shuffle=True, seed=seed)\n",
    "    val_generator = SequenceGenerator(val_data, data_dict['nt'] , val_label, data_dict, batch_size=data_dict['batch_size'], output_mode='error_and_label', n_classes=data_dict[\"nb_classes\"], shuffle=False, seed=seed)\n",
    "else:\n",
    "    train_generator = SequenceGenerator(train_data, data_dict['nt'] ,None, data_dict, batch_size=data_dict['batch_size'], n_classes=data_dict[\"nb_classes\"], shuffle=True, seed=seed)\n",
    "    val_generator = SequenceGenerator(val_data, data_dict['nt'] ,None, data_dict, batch_size=data_dict['batch_size'], n_classes=data_dict[\"nb_classes\"], shuffle=False, seed=seed)"
   ]
  },
  {
   "cell_type": "code",
   "execution_count": 18,
   "metadata": {},
   "outputs": [
    {
     "name": "stdout",
     "output_type": "stream",
     "text": [
      "shapes X=(32, 18, 64, 64, 1) \t Y=(32, 18, 8)\n",
      "Label [[0 0 0 0 0 0 0 1]\n",
      " [0 0 0 0 0 0 0 1]\n",
      " [0 0 0 0 0 1 0 0]\n",
      " [0 0 0 0 0 1 0 0]\n",
      " [0 0 0 0 0 1 0 0]\n",
      " [0 0 0 0 0 1 0 0]\n",
      " [0 0 0 1 0 0 0 0]\n",
      " [0 0 0 1 0 0 0 0]\n",
      " [0 0 0 1 0 0 0 0]\n",
      " [0 0 0 1 0 0 0 0]\n",
      " [0 0 0 1 0 0 0 0]\n",
      " [0 1 0 0 0 0 0 0]\n",
      " [0 1 0 0 0 0 0 0]\n",
      " [0 1 0 0 0 0 0 0]\n",
      " [0 1 0 0 0 0 0 0]\n",
      " [0 0 0 0 0 0 0 1]\n",
      " [0 0 0 0 0 0 0 1]\n",
      " [0 0 0 0 0 0 0 1]]\n"
     ]
    },
    {
     "data": {
      "image/png": "[encoded data removed]",
      "text/plain": [
       "<Figure size 2880x144 with 1 Axes>"
      ]
     },
     "metadata": {},
     "output_type": "display_data"
    }
   ],
   "source": [
    "# visualize the generator output\n",
    "X, Y = next(val_generator)\n",
    "print(\"shapes X={} \\t Y={}\".format(X.shape, Y['label'].shape))\n",
    "fig, ax = plt.subplots(ncols=1, nrows=1, sharex=True, figsize=(nt*2,2))\n",
    "# plot X[0]\n",
    "X = X[0,:,:,:,0]\n",
    "ax.imshow(np.concatenate([t for t in X[:,:,:]], axis=1), interpolation='none', aspect=\"auto\")\n",
    "ax.tick_params(axis='both', which='both', bottom=False, top=False, left=False, right=False, labelbottom=False, labelleft=False)\n",
    "ax.set_ylabel(r'X[0]', fontsize=10)\n",
    "ax.set_xlim(0,time_steps*im_width)\n",
    "\n",
    "print(\"Label\",Y['label'][0])"
   ]
  },
  {
   "cell_type": "code",
   "execution_count": null,
   "metadata": {},
   "outputs": [],
   "source": [
    "lr_schedule = lambda e : data_dict['lr']*(1 - 0.1*(e//data_dict['lr_reduce_epoch'])) if e//data_dict['lr_reduce_epoch']<10 else 0.1*data_dict['lr']\n",
    "callbacks = [LearningRateScheduler(lr_schedule)]"
   ]
  },
  {
   "cell_type": "code",
   "execution_count": null,
   "metadata": {},
   "outputs": [],
   "source": [
    "if not os.path.exists(data_dict['weight_dir']): \n",
    "    os.mkdir(data_dict['weight_dir'])\n",
    "    os.chmod(data_dict['weight_dir'], mode=0o777)\n",
    "callbacks.append(ModelCheckpoint(filepath=data_dict['weights_file'], monitor='val_loss', save_best_only=True))\n",
    "callbacks.append(EarlyStopping(monitor='val_loss', min_delta=0.000001, patience=25, verbose=1,\n",
    "                      mode='auto'))"
   ]
  },
  {
   "cell_type": "code",
   "execution_count": null,
   "metadata": {},
   "outputs": [],
   "source": [
    "with open(data_dict['json_file'], \"w\") as f:\n",
    "    f.write(model.to_json())"
   ]
  },
  {
   "cell_type": "code",
   "execution_count": null,
   "metadata": {},
   "outputs": [],
   "source": [
    "steps_per_epoch = data_dict['samples_per_epoch']//data_dict['batch_size'] if data_dict['samples_per_epoch'] is not None else train_generator.n//data_dict['batch_size']\n",
    "validation_steps = int(data_dict['N_seq_val']/data_dict['batch_size']) if  data_dict['N_seq_val'] is not None else val_generator.n//data_dict['batch_size']"
   ]
  },
  {
   "cell_type": "code",
   "execution_count": null,
   "metadata": {
    "scrolled": false
   },
   "outputs": [
    {
     "name": "stdout",
     "output_type": "stream",
     "text": [
      "Epoch 1/150\n",
      "281/281 [==============================] - 297s - loss: 0.0012 - y_loss: 1.8362e-04 - label_loss: 0.0010 - y_mean_squared_error: 4.2777e-08 - label_acc: 0.1290 - val_loss: 0.0012 - val_y_loss: 1.1694e-04 - val_label_loss: 0.0010 - val_y_mean_squared_error: 1.4093e-08 - val_label_acc: 0.1193\n",
      "Epoch 2/150\n",
      "281/281 [==============================] - 286s - loss: 0.0011 - y_loss: 1.0505e-04 - label_loss: 0.0010 - y_mean_squared_error: 1.1407e-08 - label_acc: 0.1308 - val_loss: 0.0011 - val_y_loss: 1.0402e-04 - val_label_loss: 0.0010 - val_y_mean_squared_error: 1.1131e-08 - val_label_acc: 0.1195\n",
      "Epoch 3/150\n",
      "281/281 [==============================] - 287s - loss: 0.0011 - y_loss: 9.0309e-05 - label_loss: 0.0010 - y_mean_squared_error: 8.4414e-09 - label_acc: 0.1300 - val_loss: 0.0011 - val_y_loss: 8.6547e-05 - val_label_loss: 0.0010 - val_y_mean_squared_error: 7.7459e-09 - val_label_acc: 0.1201\n",
      "Epoch 4/150\n",
      "281/281 [==============================] - 286s - loss: 0.0011 - y_loss: 7.9766e-05 - label_loss: 0.0010 - y_mean_squared_error: 6.5993e-09 - label_acc: 0.1308 - val_loss: 0.0011 - val_y_loss: 8.4175e-05 - val_label_loss: 0.0010 - val_y_mean_squared_error: 7.3182e-09 - val_label_acc: 0.1201\n",
      "Epoch 5/150\n",
      "281/281 [==============================] - 287s - loss: 0.0011 - y_loss: 7.2788e-05 - label_loss: 0.0010 - y_mean_squared_error: 5.5122e-09 - label_acc: 0.1302 - val_loss: 0.0011 - val_y_loss: 7.0165e-05 - val_label_loss: 0.0010 - val_y_mean_squared_error: 5.1182e-09 - val_label_acc: 0.1213\n",
      "Epoch 6/150\n",
      "281/281 [==============================] - 287s - loss: 0.0011 - y_loss: 6.8408e-05 - label_loss: 0.0010 - y_mean_squared_error: 4.8794e-09 - label_acc: 0.1302 - val_loss: 0.0011 - val_y_loss: 6.5210e-05 - val_label_loss: 0.0010 - val_y_mean_squared_error: 4.4367e-09 - val_label_acc: 0.1175\n",
      "Epoch 7/150\n",
      "281/281 [==============================] - 287s - loss: 0.0011 - y_loss: 6.3571e-05 - label_loss: 0.0010 - y_mean_squared_error: 4.2338e-09 - label_acc: 0.1315 - val_loss: 0.0011 - val_y_loss: 6.0579e-05 - val_label_loss: 0.0010 - val_y_mean_squared_error: 3.8435e-09 - val_label_acc: 0.1206\n",
      "Epoch 8/150\n",
      "281/281 [==============================] - 285s - loss: 0.0011 - y_loss: 6.0340e-05 - label_loss: 0.0010 - y_mean_squared_error: 3.8219e-09 - label_acc: 0.1306 - val_loss: 0.0011 - val_y_loss: 6.3270e-05 - val_label_loss: 0.0010 - val_y_mean_squared_error: 4.1718e-09 - val_label_acc: 0.1192\n",
      "Epoch 9/150\n",
      "281/281 [==============================] - 287s - loss: 0.0011 - y_loss: 5.7153e-05 - label_loss: 0.0010 - y_mean_squared_error: 3.4449e-09 - label_acc: 0.1307 - val_loss: 0.0011 - val_y_loss: 5.6724e-05 - val_label_loss: 0.0010 - val_y_mean_squared_error: 3.3874e-09 - val_label_acc: 0.1198\n",
      "Epoch 10/150\n",
      "281/281 [==============================] - 287s - loss: 0.0011 - y_loss: 5.7100e-05 - label_loss: 0.0010 - y_mean_squared_error: 3.4503e-09 - label_acc: 0.1323 - val_loss: 0.0011 - val_y_loss: 5.3947e-05 - val_label_loss: 0.0010 - val_y_mean_squared_error: 3.0751e-09 - val_label_acc: 0.1185\n",
      "Epoch 11/150\n",
      "281/281 [==============================] - 286s - loss: 0.0011 - y_loss: 5.3832e-05 - label_loss: 0.0010 - y_mean_squared_error: 3.0711e-09 - label_acc: 0.1294 - val_loss: 0.0011 - val_y_loss: 5.2704e-05 - val_label_loss: 0.0010 - val_y_mean_squared_error: 2.9387e-09 - val_label_acc: 0.1173\n",
      "Epoch 12/150\n",
      "281/281 [==============================] - 286s - loss: 0.0011 - y_loss: 5.2474e-05 - label_loss: 0.0010 - y_mean_squared_error: 2.9196e-09 - label_acc: 0.1305 - val_loss: 0.0011 - val_y_loss: 5.1880e-05 - val_label_loss: 0.0010 - val_y_mean_squared_error: 2.8544e-09 - val_label_acc: 0.1207\n",
      "Epoch 13/150\n",
      "281/281 [==============================] - 287s - loss: 0.0011 - y_loss: 5.1876e-05 - label_loss: 0.0010 - y_mean_squared_error: 2.8609e-09 - label_acc: 0.1302 - val_loss: 0.0011 - val_y_loss: 5.1100e-05 - val_label_loss: 0.0010 - val_y_mean_squared_error: 2.7782e-09 - val_label_acc: 0.1221\n",
      "Epoch 14/150\n",
      "281/281 [==============================] - 286s - loss: 0.0011 - y_loss: 5.4654e-05 - label_loss: 0.0010 - y_mean_squared_error: 3.2716e-09 - label_acc: 0.1314 - val_loss: 0.0011 - val_y_loss: 5.3714e-05 - val_label_loss: 0.0010 - val_y_mean_squared_error: 3.0564e-09 - val_label_acc: 0.1171\n",
      "Epoch 15/150\n",
      "281/281 [==============================] - 287s - loss: 0.0011 - y_loss: 5.0289e-05 - label_loss: 0.0010 - y_mean_squared_error: 2.6945e-09 - label_acc: 0.1292 - val_loss: 0.0011 - val_y_loss: 4.9482e-05 - val_label_loss: 0.0010 - val_y_mean_squared_error: 2.6070e-09 - val_label_acc: 0.1220\n",
      "Epoch 16/150\n",
      "281/281 [==============================] - 287s - loss: 0.0011 - y_loss: 4.9785e-05 - label_loss: 0.0010 - y_mean_squared_error: 2.6506e-09 - label_acc: 0.1320 - val_loss: 0.0011 - val_y_loss: 4.8576e-05 - val_label_loss: 0.0010 - val_y_mean_squared_error: 2.5162e-09 - val_label_acc: 0.1206\n",
      "Epoch 17/150\n",
      "281/281 [==============================] - 287s - loss: 0.0011 - y_loss: 4.8285e-05 - label_loss: 0.0010 - y_mean_squared_error: 2.4984e-09 - label_acc: 0.1311 - val_loss: 0.0011 - val_y_loss: 4.7679e-05 - val_label_loss: 0.0010 - val_y_mean_squared_error: 2.4268e-09 - val_label_acc: 0.1193\n",
      "Epoch 18/150\n",
      "281/281 [==============================] - 286s - loss: 0.0011 - y_loss: 4.9544e-05 - label_loss: 0.0010 - y_mean_squared_error: 2.6400e-09 - label_acc: 0.1298 - val_loss: 0.0011 - val_y_loss: 4.7716e-05 - val_label_loss: 0.0010 - val_y_mean_squared_error: 2.4357e-09 - val_label_acc: 0.1196\n",
      "Epoch 19/150\n",
      "281/281 [==============================] - 287s - loss: 0.0011 - y_loss: 4.6700e-05 - label_loss: 0.0010 - y_mean_squared_error: 2.3451e-09 - label_acc: 0.1307 - val_loss: 0.0011 - val_y_loss: 4.5921e-05 - val_label_loss: 0.0010 - val_y_mean_squared_error: 2.2629e-09 - val_label_acc: 0.1213\n",
      "Epoch 20/150\n",
      "281/281 [==============================] - 287s - loss: 0.0011 - y_loss: 4.5875e-05 - label_loss: 0.0010 - y_mean_squared_error: 2.2698e-09 - label_acc: 0.1310 - val_loss: 0.0011 - val_y_loss: 4.5699e-05 - val_label_loss: 0.0010 - val_y_mean_squared_error: 2.2405e-09 - val_label_acc: 0.1187\n",
      "Epoch 21/150\n",
      "281/281 [==============================] - 286s - loss: 0.0011 - y_loss: 4.5129e-05 - label_loss: 0.0010 - y_mean_squared_error: 2.2007e-09 - label_acc: 0.1315 - val_loss: 0.0011 - val_y_loss: 4.4816e-05 - val_label_loss: 0.0010 - val_y_mean_squared_error: 2.1603e-09 - val_label_acc: 0.1187\n",
      "Epoch 22/150\n",
      "281/281 [==============================] - 286s - loss: 0.0011 - y_loss: 4.4799e-05 - label_loss: 0.0010 - y_mean_squared_error: 2.1679e-09 - label_acc: 0.1295 - val_loss: 0.0011 - val_y_loss: 4.4284e-05 - val_label_loss: 0.0010 - val_y_mean_squared_error: 2.1112e-09 - val_label_acc: 0.1217\n",
      "Epoch 23/150\n",
      "281/281 [==============================] - 286s - loss: 0.0011 - y_loss: 4.4290e-05 - label_loss: 0.0010 - y_mean_squared_error: 2.1208e-09 - label_acc: 0.1308 - val_loss: 0.0011 - val_y_loss: 4.4923e-05 - val_label_loss: 0.0010 - val_y_mean_squared_error: 2.1687e-09 - val_label_acc: 0.1188\n",
      "Epoch 24/150\n",
      "218/281 [======================>.......] - ETA: 62s - loss: 0.0011 - y_loss: 4.4194e-05 - label_loss: 0.0010 - y_mean_squared_error: 2.1083e-09 - label_acc: 0.1304"
     ]
    }
   ],
   "source": [
    "history = model.fit_generator(train_generator,\n",
    "                              steps_per_epoch=steps_per_epoch,\n",
    "                              epochs=data_dict['nb_epochs'],\n",
    "                              callbacks=callbacks, \n",
    "                              validation_data=val_generator, \n",
    "                              validation_steps=validation_steps)"
   ]
  },
  {
   "cell_type": "code",
   "execution_count": null,
   "metadata": {},
   "outputs": [],
   "source": [
    "# save training history to a file\n",
    "with open(os.path.join(data_dict['result_dir'], 'training_history.json'), 'w') as f:\n",
    "    json.dump(history.history, f, sort_keys=True, indent=4)"
   ]
  },
  {
   "cell_type": "markdown",
   "metadata": {},
   "source": [
    "# Checking Predictions"
   ]
  },
  {
   "cell_type": "code",
   "execution_count": null,
   "metadata": {},
   "outputs": [],
   "source": [
    "# Loading best model\n",
    "# data_dict['json_file'] = os.path.join(os.path.join(os.getcwd(), \"mnist_best_prednet\"), 'prednet_mnist_model.json')\n",
    "# data_dict['weights_file'] = os.path.join(os.path.join(os.getcwd(), \"mnist_best_prednet\"), 'prednet_mnist_weights.hdf5')\n",
    "\n",
    "# Loading trained model\n",
    "with open(data_dict['json_file'], 'r') as f:\n",
    "    json_string = f.read()\n",
    "\n",
    "model = model_from_json(json_string, custom_objects={'PredNet': PredNet, 'nb_layers':nb_layers})\n",
    "model.load_weights(data_dict['weights_file'])"
   ]
  },
  {
   "cell_type": "code",
   "execution_count": null,
   "metadata": {},
   "outputs": [],
   "source": [
    "# Create testing model (to output predictions)\n",
    "layer_config = model.layers[1].get_config()\n",
    "if(data_dict[\"multitask\"]):\n",
    "    output_mode = 'prediction_and_label' \n",
    "else:\n",
    "    output_mode = 'prediction'\n",
    "layer_config['output_mode'] = output_mode\n",
    "data_format = layer_config['data_format'] if 'data_format' in layer_config else layer_config['dim_ordering']\n",
    "test_prednet = PredNet(weights=model.layers[1].get_weights(), **layer_config)\n",
    "input_shape = list(model.layers[0].batch_input_shape[1:])\n",
    "input_shape[0] = time_steps\n",
    "inputs = Input(shape=tuple(input_shape))\n",
    "predictions = test_prednet(inputs)\n",
    "test_model = Model(inputs=inputs, outputs=predictions)"
   ]
  },
  {
   "cell_type": "code",
   "execution_count": null,
   "metadata": {},
   "outputs": [],
   "source": [
    " #initialize lists for evaluation        \n",
    "mse_model_list, mse_prev_list, mae_model_list, mae_prev_list = ([] for i in range(4))\n",
    "psnr_list, ssim_list, sharpness_grad_list, psnr_prev_list, ssim_prev_list, sharpness_grad_prev_list = ([] for i in range(6))\n",
    "psnr_movement_list, psnr_movement_prev_list, ssim_movement_list, ssim_movement_prev_list =  ([] for i in range(4))\n",
    "conditioned_ssim_list, sharpness_list, sharpness_prev_list = ([] for i in range(3))\n",
    "accuracy_list = []"
   ]
  },
  {
   "cell_type": "code",
   "execution_count": null,
   "metadata": {
    "scrolled": false
   },
   "outputs": [],
   "source": [
    "# TODO:  adhoc to speed things up \n",
    "data_dict['batch_size'] = 128\n",
    "max_test_batches = val_generator.n // 128 # adhoc, only run on few batches (/8)\n",
    "\n",
    "for index, data in enumerate(val_generator):\n",
    "    # Only consider steps_test number of steps\n",
    "    if index > max_test_batches:\n",
    "        break\n",
    "    # X_test = test_generator.next()[0]\n",
    "    X_test = data[0]        \n",
    "\n",
    "    if(data_dict['multitask']==True):\n",
    "        lbl = data[1]['label']\n",
    "        lbl_final = lbl.argmax(axis=-1)\n",
    "        X_hat_with_lbl = test_model.predict(X_test, data_dict['batch_size'])\n",
    "        X_hat, lbl_hat = X_hat_with_lbl[:,:,:-data_dict[\"nb_classes\"]], X_hat_with_lbl[:,:,-data_dict[\"nb_classes\"]:]\n",
    "        # print(\"<d>\", lbl_hat.shape, lbl_hat.max(), lbl_hat.min(), lbl_hat.mean())\n",
    "        X_hat  = np.reshape(X_hat, X_test.shape) \n",
    "#         lbl_pred_final_logits = np.moveaxis(lbl_hat,1,2).dot(get_exp_t_weights(time_steps)).squeeze()\n",
    "        lbl_pred_final = lbl_hat.argmax(axis=-1)\n",
    "        if index==0: \n",
    "            # visualize the predicted labels for the first round\n",
    "            for i in range(-data_dict['nt']-3,-data_dict['nt']):\n",
    "                print(\"\\nExpected labels  = \\n\", [directions[l] for l in lbl_final[i]]) \n",
    "                print(\"Predicted labels = \\n\", [directions[l] for l in lbl_pred_final[i]])\n",
    "        acc = (lbl_pred_final == lbl_final).mean()\n",
    "        print(\"{}, accuracy= {:.2f}%\".format(index, acc*100))\n",
    "        accuracy_list.append(acc)\n",
    "    else:\n",
    "        X_hat = test_model.predict(X_test, data_dict['batch_size'])\n",
    "    if data_format == 'channels_first':\n",
    "        X_test = np.transpose(X_test, (0, 1, 3, 4, 2))\n",
    "        X_hat = np.transpose(X_hat, (0, 1, 3, 4, 2))\n",
    "\n",
    "    # Compare the scores of PredNet predictions vs. using last frame.  Write results to prediction_scores.txt\n",
    "    # mean square error\n",
    "    mse_model_list.append(\n",
    "        np.mean((X_test[:, 1:] - X_hat[:, 1:]) ** 2))  # look at all timesteps except the first\n",
    "    mse_prev_list.append(np.mean((X_test[:, :-1] - X_test[:, 1:]) ** 2))\n",
    "    # mean absolute error\n",
    "    mae_model_list.append(\n",
    "        np.mean(np.abs(X_test[:, 1:] - X_hat[:, 1:])))\n",
    "    mae_prev_list.append(np.mean(np.abs(X_test[:, :-1] - X_test[:, 1:])))\n",
    "    # ssim\n",
    "    ssim_list.append(np.mean([return_difference(X_test[ind][1:], X_hat[ind][1:])[0] for ind in range(X_test.shape[0])]))\n",
    "    ssim_prev_list.append(np.mean([return_difference(X_test[ind][:-1], X_test[ind][1:])[0] \n",
    "                                   for ind in range(X_test.shape[0]-1)]))\n",
    "    ssim_movement_list.append(np.mean([return_difference(X_test[ind], X_hat[ind])[2] \n",
    "                                       for ind in range(X_test.shape[0])]))\n",
    "    ssim_movement_prev_list.append(np.mean([return_difference(X_test[ind][:-1], X_test[ind][1:])[2] \n",
    "                                   for ind in range(X_test.shape[0]-1)])) \n",
    "    conditioned_ssim_list.append(np.mean([conditioned_ssim(X_test[ind], X_hat[ind]) \n",
    "                                   for ind in range(X_test.shape[0])])) \n",
    "\n",
    "    # psnr\n",
    "    psnr_list.append(np.mean([return_difference(X_test[ind][1:], X_hat[ind][1:])[1] for ind in range(X_test.shape[0])]))            \n",
    "    psnr_prev_list.append(np.mean([return_difference(X_test[ind][:-1], X_test[ind][1:])[1] \n",
    "                                   for ind in range(X_test.shape[0]-1)]))\n",
    "    psnr_movement_list.append(np.mean([return_difference(X_test[ind], X_hat[ind])[3] \n",
    "                                       for ind in range(X_test.shape[0])]))\n",
    "    psnr_movement_prev_list.append(np.mean([return_difference(X_test[ind][:-1], X_test[ind][1:])[3] \n",
    "                                   for ind in range(X_test.shape[0]-1)]))\n",
    "\n",
    "    # sharpness\n",
    "#     sharpness_grad_list.append(np.mean([sharpness_difference_grad(X_test[ind][1:], X_hat[ind][1:])\n",
    "#                                    for ind in range(X_test.shape[0])]))\n",
    "    #sharpness_grad_prev_list.append(np.mean([sharpness_difference_grad(X_test[ind][:-1], X_test[ind][1:])\n",
    "    #                                    for ind in range(X_test.shape[0]-1)]))\n",
    "\n",
    "#     sharpness_list.append(np.mean([sharpness_difference(X_test[ind][1:], X_hat[ind][1:])\n",
    "#                                   for ind in range(X_test.shape[0])]))\n",
    "    #sharpness_prev_list.append(np.mean([sharpness_difference(X_test[ind][:-1], X_test[ind][1:])\n",
    "    #                               for ind in range(X_test.shape[0])]))\n",
    "\n",
    "    \n",
    "# save in a dict and limit the size of float decimals to max 6\n",
    "results_dict = {                    \n",
    "\"MSE_mean\": float(\"{:.10f}\".format(np.mean(mse_model_list))), \n",
    "\"MSE_std\":float((\"{:.10f}\".format(np.std(mse_model_list)))), \n",
    "\"MSE_mean_prev_frame_copy\":float(\"{:.10f}\".format(np.mean(mse_prev_list))), \n",
    "\"MSE_std_prev_frame_copy\":float(\"{:.10f}\".format(np.std(mse_prev_list))),\n",
    "\"MAE_mean\": float(\"{:.6f}\".format(np.mean(mae_model_list))), \n",
    "\"MAE_std\":float((\"{:.6f}\".format(np.std(mae_model_list)))), \n",
    "\"MAE_mean_prev_frame_copy\":float(\"{:.6f}\".format(np.mean(mae_prev_list))), \n",
    "\"MAE_std_prev_frame_copy\":float(\"{:.6f}\".format(np.std(mae_prev_list))),\n",
    "\"SSIM_mean\": float(\"{:.6f}\".format(np.mean(ssim_list))), \n",
    "\"SSIM_mean_prev_frame_copy\": float(\"{:.6f}\".format(np.mean(ssim_prev_list))), \n",
    "\"SSIM_movement_mean\": float(\"{:.6f}\".format(np.mean(ssim_movement_list))), \n",
    "\"SSIM_movement_mean_prev_frame_copy\": float(\"{:.6f}\".format(np.mean(ssim_movement_prev_list))), \n",
    "\"Conditioned_SSIM_mean\": float(\"{:.6f}\".format(np.mean(conditioned_ssim_list))),\n",
    "\"PSNR_mean\": float(\"{:.6f}\".format(np.mean(psnr_list))),\n",
    "\"PSNR_mean_prev_frame_copy\": float(\"{:.6f}\".format(np.mean(psnr_prev_list))), \n",
    "\"PSNR_movement_mean\": float(\"{:.6f}\".format(np.mean(psnr_movement_list))), \n",
    "\"PSNR_movement_mean_prev_frame_copy\": float(\"{:.6f}\".format(np.mean(psnr_movement_prev_list))), \n",
    "\"Sharpness_grad_mean\": float(\"{:.6f}\".format(np.mean(sharpness_grad_list))),\n",
    "#\"Sharpness_grad_mean_prev_frame_copy\": float(\"{:.6f}\".format(np.mean(sharpness_grad_prev_list))),\n",
    "\"Sharpness_difference_mean\": float(\"{:.6f}\".format(np.mean(sharpness_list)))\n",
    "#\"Sharpness_difference_mean_prev_frame_copy\" : float(\"{:.6f}\".format(np.mean(sharpness_prev_list)))\n",
    "}"
   ]
  },
  {
   "cell_type": "code",
   "execution_count": null,
   "metadata": {},
   "outputs": [],
   "source": [
    "print(\"model results for training dataset:\")\n",
    "results_dict"
   ]
  },
  {
   "cell_type": "code",
   "execution_count": null,
   "metadata": {},
   "outputs": [],
   "source": [
    "results_dict['MSE_mean']"
   ]
  },
  {
   "cell_type": "code",
   "execution_count": null,
   "metadata": {},
   "outputs": [],
   "source": [
    "with open(os.path.join(data_dict['result_dir'], 'mnist_scores.json'), 'w') as f:\n",
    "    json.dump(results_dict, f, sort_keys=True,  indent=4)"
   ]
  },
  {
   "cell_type": "markdown",
   "metadata": {},
   "source": [
    "# Creating extra plots"
   ]
  },
  {
   "cell_type": "code",
   "execution_count": null,
   "metadata": {},
   "outputs": [],
   "source": [
    "extra_plot_flag = False\n",
    "\n",
    "plot_save_dir = os.path.join(data_dict['result_dir'], 'predictions')\n",
    "if not os.path.exists(plot_save_dir):\n",
    "    os.makedirs(plot_save_dir)\n",
    "\n",
    "assert X_test.shape==X_hat.shape"
   ]
  },
  {
   "cell_type": "code",
   "execution_count": null,
   "metadata": {},
   "outputs": [],
   "source": [
    "if extra_plot_flag:\n",
    "    #Create models for error and R plots\n",
    "    extra_test_models = []\n",
    "    no_layers = len(test_prednet.stack_sizes)\n",
    "    extra_output_modes = (['E'+str(no) for no in range(no_layers)] + ['A'+str(no) for no in range(no_layers)] \n",
    "                        + ['Ahat'+str(no) for no in range(no_layers)] + ['R'+str(no) for no in range(no_layers)])\n",
    "\n",
    "    for output_mode in extra_output_modes:\n",
    "        if(data_dict['multitask'] == True):\n",
    "            output_mode += \"_and_label\"\n",
    "        layer_config['output_mode'] = output_mode    \n",
    "        data_format = (layer_config['data_format'] if 'data_format' in layer_config \n",
    "                        else layer_config['dim_ordering'])\n",
    "        extra_test_prednet = PredNet(weights=model.layers[1].get_weights(), **layer_config)\n",
    "        input_shape = list(model.layers[0].batch_input_shape[1:])\n",
    "        input_shape[0] = data_dict['nt']\n",
    "        inputs = Input(shape=tuple(input_shape))\n",
    "        extra_predictions = extra_test_prednet(inputs)\n",
    "        extra_test_model = Model(inputs=inputs, outputs=extra_predictions)\n",
    "        extra_test_models.append((extra_test_model, output_mode))\n",
    "    \n",
    "    #Create outputs for extra plots\n",
    "    error_X_hats = []\n",
    "    R_X_hats = []\n",
    "    A_X_hats = []\n",
    "    Ahat_X_hats = []\n",
    "    for test_model, output_mode in extra_test_models:\n",
    "        if output_mode[0]=='R':\n",
    "            R_X_hat = test_model.predict(X_test) \n",
    "            R_X_hats.append((R_X_hat, output_mode))\n",
    "        elif output_mode[0]=='E':\n",
    "            error_X_hat = test_model.predict(X_test) \n",
    "            error_X_hats.append((error_X_hat, output_mode))\n",
    "        elif 'Ahat' in output_mode: \n",
    "            Ahat_X_hat = test_model.predict(X_test) \n",
    "            Ahat_X_hats.append((Ahat_X_hat, output_mode))\n",
    "        else: # output_mode[0]=='A':\n",
    "            A_X_hat = test_model.predict(X_test) \n",
    "            A_X_hats.append((A_X_hat, output_mode))"
   ]
  },
  {
   "cell_type": "code",
   "execution_count": null,
   "metadata": {
    "scrolled": true
   },
   "outputs": [],
   "source": [
    "# sample 'plots_per_grp' videos from each sub-group\n",
    "aspect_ratio = float(X_hat.shape[2]) / X_hat.shape[3]\n",
    "for i in range(3):      #len(X_test)    \n",
    "    if extra_plot_flag:\n",
    "        fig, ax = plt.subplots(ncols=1, nrows=20, sharex=True, figsize=(time_steps, 25 * aspect_ratio),\n",
    "                              gridspec_kw={'height_ratios':[1,1,1,1,1,1,1,1,1,1,1,1,1,1,1,1,1,1,3,3]})\n",
    "    else:\n",
    "        fig, ax = plt.subplots(ncols=1, nrows=2, sharex=True, figsize=(time_steps, 2 * aspect_ratio))\n",
    "\n",
    "    # set the title of the plot as the label and the video ID for reference\n",
    "    if(data_dict['multitask']):\n",
    "        title = \"{}) TRUE {}\\n PRED: {}\".format(\n",
    "        i, \n",
    "        [directions[lbl] for lbl in lbl_final[i]],\n",
    "        [directions[lbl] for lbl in lbl_pred_final[i]])\n",
    "    else:\n",
    "        title = \"{}) Digit {}\".format( # Pos {}\n",
    "        i, \n",
    "        np.unique(val_label[i,0,:,0].astype(int))\n",
    "#         ,val_label[i,:,0,1:]\n",
    ")\n",
    "\n",
    "    fig.suptitle(title, fontsize=10)\n",
    "\n",
    "    #Plot video\n",
    "    ax = plt.subplot()\n",
    "    ax.imshow(np.concatenate([t for t in X_test[i,:,:,:,0]], axis=1), interpolation='none', aspect=\"auto\")\n",
    "    ax.tick_params(axis='both', which='both', bottom=False, top=False, left=False, right=False,\n",
    "                                    labelbottom=False, labelleft=False)\n",
    "    ax.set_ylabel(r'Actual', fontsize=10)\n",
    "    ax.set_xlim(0,time_steps*im_width)\n",
    "\n",
    "    #Plot predictions\n",
    "    divider = make_axes_locatable(ax)\n",
    "    ax = divider.append_axes(\"bottom\", size=\"100%\", pad=0.0)                                             \n",
    "    ax.imshow(np.concatenate([t for t in X_hat[i,:,:,:,0]], axis=1), interpolation='none', aspect=\"auto\")\n",
    "    ax.tick_params(axis='both', which='both', bottom=False, top=False, left=False, right=False,\n",
    "                                    labelbottom=False, labelleft=False)\n",
    "    ax.set_ylabel(r'Prediction', fontsize=10)\n",
    "    ax.set_xlim(0,time_steps*im_width)\n",
    "    \n",
    "    if extra_plot_flag:\n",
    "        #Create values for R plots      \n",
    "        results = plot_changes_in_r(R_X_hats, i, std_param=data_dict['std_param'])\n",
    "        ax = divider.append_axes(\"bottom\", size=\"300%\", pad=0.2)                                                                \n",
    "        #Plot R plots\n",
    "        for layer in results:\n",
    "            (y,x,std) = layer[0]\n",
    "            x = [im_width/2+item*im_width for item in x]\n",
    "            ax.fill_between(x, [(val-data_dict['std_param']*dev) for val,dev in zip(y,std)], \n",
    "                             [(val+data_dict['std_param']*dev) for val,dev in zip(y,std)], alpha=0.1)\n",
    "            ax.plot(x, y)\n",
    "\n",
    "        ax.set_xlim(0,time_steps*im_width)\n",
    "        ax.set_xticks(np.arange(im_width/2, time_steps*im_width, step=im_width))                \n",
    "        ax.set_xticklabels(np.arange(1,time_steps+1))\n",
    "        ax.grid(True)                  \n",
    "        ax.set_ylabel(r\"Mean R activations\", fontsize=10)\n",
    "        ax.xaxis.set_label_position('top') \n",
    "        ax.legend(['R'+str(no) for no in range(no_layers)], loc='center left')\n",
    "\n",
    "        #Create values for E plots      \n",
    "        results = plot_changes_in_r(error_X_hats, i, std_param=data_dict['std_param'])\n",
    "        ax = divider.append_axes(\"bottom\", size=\"300%\", pad=0.2)                                                                \n",
    "        #Plot E plots\n",
    "        for layer in results:\n",
    "            (y,x,std) = layer[0]\n",
    "            x = [im_width/2+item*im_width for item in x]\n",
    "            ax.fill_between(x, [(val-data_dict['std_param']*dev) for val,dev in zip(y,std)], \n",
    "                            [(val+data_dict['std_param']*dev) for val,dev in zip(y,std)], alpha=0.1)\n",
    "            ax.plot(x, y)\n",
    "\n",
    "        ax.set_xlim(0,time_steps*im_width)\n",
    "        ax.set_xticks(np.arange(im_width/2, time_steps*im_width, step=im_width))                \n",
    "        ax.set_xticklabels(np.arange(1,time_steps+1))\n",
    "        ax.grid(True)                  \n",
    "        ax.set_ylabel(r\"Mean E activations\", fontsize=10)\n",
    "        ax.xaxis.set_label_position('top') \n",
    "        ax.legend(['E'+str(no) for no in range(no_layers)], loc='center left')\n",
    "\n",
    "        #Create error output matrices to plot inside the next loop\n",
    "        R_matrices = plot_errors(R_X_hats, X_test, ind=i)\n",
    "        A_matrices =  plot_errors(A_X_hats, X_test, ind=i) \n",
    "        Ahat_matrices = plot_errors(Ahat_X_hats, X_test, ind=i)\n",
    "        error_matrices = plot_errors(error_X_hats, X_test, ind=i)\n",
    "        #Plot R, A, Ahat and errors for each layer\n",
    "        for layer in range(len(error_matrices)):   \n",
    "                ##R\n",
    "                ax = divider.append_axes(\"bottom\", size=\"100%\", pad=0.2)                                             \n",
    "                ax.imshow(np.concatenate([t for t in R_matrices[layer]], axis=1), \n",
    "                                   interpolation='nearest', cmap='gray', aspect=\"auto\")\n",
    "                ax.tick_params(axis='both', which='both', bottom=False, top=False, left=False, \n",
    "                                        right=False, labelbottom=False, labelleft=False)\n",
    "                ax.set_ylabel(r\"R\" + str(layer), fontsize=10)\n",
    "                ax.set_xlabel(r\"Layer \" + str(layer), fontsize=10)\n",
    "                ax.xaxis.set_label_position('top') \n",
    "                ax.set_xlim(0,time_steps*im_width)\n",
    "                ##A\n",
    "                ax = divider.append_axes(\"bottom\", size=\"100%\", pad=0.0)                                             \n",
    "                ax.imshow(np.concatenate([t for t in Ahat_matrices[layer]], axis=1), \n",
    "                                   interpolation='nearest', cmap='gray', aspect=\"auto\")\n",
    "                ax.tick_params(axis='both', which='both', bottom=False, top=False, left=False, \n",
    "                                        right=False, labelbottom=False, labelleft=False)\n",
    "                ax.set_ylabel(r\"Ahat\" + str(layer), fontsize=10)\n",
    "                ax.set_xlim(0,time_steps*im_width)\n",
    "                ##Ahat\n",
    "                ax = divider.append_axes(\"bottom\", size=\"100%\", pad=0.0)                                     \n",
    "                ax.imshow(np.concatenate([t for t in A_matrices[layer]], axis=1), \n",
    "                                   interpolation='nearest', cmap='gray', aspect=\"auto\")\n",
    "                ax.tick_params(axis='both', which='both', bottom=False, top=False, left=False, \n",
    "                                        right=False, labelbottom=False, labelleft=False)\n",
    "                ax.set_ylabel(r\"A\" + str(layer), fontsize=10)\n",
    "                ax.set_xlim(0,time_steps*im_width)\n",
    "                ##E\n",
    "                ax = divider.append_axes(\"bottom\", size=\"100%\", pad=0.0)                                             \n",
    "                ax.imshow(np.concatenate([t for t in error_matrices[layer]], axis=1), \n",
    "                                   interpolation='nearest', cmap='gray', aspect=\"auto\")\n",
    "                ax.tick_params(axis='both', which='both', bottom=False, top=False, left=False, \n",
    "                                        right=False, labelbottom=False, labelleft=False)\n",
    "                ax.set_ylabel(r\"E\" + str(layer), fontsize=10)\n",
    "                ax.set_xlim(0,time_steps*im_width)\n",
    "    plt.tight_layout()\n",
    "    fig.savefig(plot_save_dir+\"/\"+\"prediction\"+str(i))\n",
    "    plt.show()"
   ]
  },
  {
   "cell_type": "code",
   "execution_count": null,
   "metadata": {},
   "outputs": [],
   "source": []
  }
 ],
 "metadata": {
  "kernelspec": {
   "display_name": "Python 3",
   "language": "python",
   "name": "python3"
  },
  "language_info": {
   "codemirror_mode": {
    "name": "ipython",
    "version": 3
   },
   "file_extension": ".py",
   "mimetype": "text/x-python",
   "name": "python",
   "nbconvert_exporter": "python",
   "pygments_lexer": "ipython3",
   "version": "3.5.2"
  }
 },
 "nbformat": 4,
 "nbformat_minor": 2
}
