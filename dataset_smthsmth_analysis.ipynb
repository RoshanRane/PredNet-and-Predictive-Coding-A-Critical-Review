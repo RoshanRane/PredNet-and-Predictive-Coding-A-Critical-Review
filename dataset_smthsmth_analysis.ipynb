{
 "cells": [
  {
   "cell_type": "markdown",
   "metadata": {},
   "source": [
    "## Analysis of 20bn something something dataset for preprocessing\n",
    "\n",
    "(analysis by Edit)\n",
    "\n",
    "https://20bn.com/datasets/something-something  \n",
    "https://arxiv.org/abs/1804.09235\n",
    "\n",
    "**Size:**  \n",
    "220,847 videos  \n",
    "Training 168,913  \n",
    "Validation 24,777  \n",
    "Test 27,157  \n",
    "\n",
    "**Labels:**  \n",
    "50 coarse-grained action groups  \n",
    "174 action categories e.g.\"Putting [something] onto [something]\"  \n",
    "318,572 annotations and 30,408 unique objects e.g. “Putting a blue cup onto a table\"  \n",
    "  \n",
    "**Resolution:**  \n",
    "height 240px  \n",
    "width variable (further analysis below)\n",
    "\n",
    "**FPS:**  \n",
    "12  \n",
    "\n",
    "**Number of frames per video:**  \n",
    "variable (further analysis below). Videos are very short, some have less than 48 frames.\n",
    "\n",
    "\n",
    "**Comments:**  \n",
    "In most videos, the actions are performed from the first-person point of view. Few videos we could see half a human, and in a few no human at all (just camera movement, or even no movement)\n"
   ]
  },
  {
   "cell_type": "code",
   "execution_count": 1,
   "metadata": {},
   "outputs": [],
   "source": [
    "import glob, os \n",
    "import numpy as np\n",
    "from matplotlib import pyplot as plt\n",
    "from scipy.misc import imresize\n",
    "import pandas as pd"
   ]
  },
  {
   "cell_type": "markdown",
   "metadata": {},
   "source": [
    "### 1) Extract the raw videos in .webm format to image frames :  \n",
    "\n",
    "**Done. See extract_20bn.py script**\n",
    "\n",
    "Other info:  \n",
    "1) How to check framerate \n",
    "https://askubuntu.com/questions/110264/how-to-find-frames-per-second-of-any-video-file  \n",
    "2) ffmpeg guide  https://en.wikibooks.org/wiki/FFMPEG_An_Intermediate_Guide/image_sequence  \n",
    "3) http://scikit-image.org/docs/dev/user_guide/video.html"
   ]
  },
  {
   "cell_type": "code",
   "execution_count": 3,
   "metadata": {},
   "outputs": [],
   "source": [
    "data_dir = \"/data/videos/something-something-v2/preprocessed\" "
   ]
  },
  {
   "cell_type": "code",
   "execution_count": 3,
   "metadata": {},
   "outputs": [],
   "source": [
    "vid_list = [vid for vid in glob.glob(data_dir+\"/test/*\")]+ [vid for vid in glob.glob(data_dir+\"/val/*\")]"
   ]
  },
  {
   "cell_type": "code",
   "execution_count": null,
   "metadata": {},
   "outputs": [],
   "source": [
    "df = pd.DataFrame({\"path\":vid_list})\n",
    "print(\"Doing analysis only on the test+val splits (because the train split is too large to work with). \\nTotal videos = {}\".format(len(df)))"
   ]
  },
  {
   "cell_type": "code",
   "execution_count": 15,
   "metadata": {
    "scrolled": true
   },
   "outputs": [
    {
     "name": "stderr",
     "output_type": "stream",
     "text": [
      "/usr/local/lib/python3.5/dist-packages/ipykernel_launcher.py:3: DeprecationWarning: `imread` is deprecated!\n",
      "`imread` is deprecated in SciPy 1.0.0, and will be removed in 1.2.0.\n",
      "Use ``imageio.imread`` instead.\n",
      "  This is separate from the ipykernel package so we can avoid doing imports until\n"
     ]
    },
    {
     "data": {
      "text/html": [
       "<div>\n",
       "<style scoped>\n",
       "    .dataframe tbody tr th:only-of-type {\n",
       "        vertical-align: middle;\n",
       "    }\n",
       "\n",
       "    .dataframe tbody tr th {\n",
       "        vertical-align: top;\n",
       "    }\n",
       "\n",
       "    .dataframe thead th {\n",
       "        text-align: right;\n",
       "    }\n",
       "</style>\n",
       "<table border=\"1\" class=\"dataframe\">\n",
       "  <thead>\n",
       "    <tr style=\"text-align: right;\">\n",
       "      <th></th>\n",
       "      <th>path</th>\n",
       "      <th>height</th>\n",
       "      <th>width</th>\n",
       "      <th>shape</th>\n",
       "      <th>aspect_ratio</th>\n",
       "      <th>num_of_frames</th>\n",
       "      <th>first_frame_mean</th>\n",
       "      <th>first_frame_std</th>\n",
       "      <th>first_frame_range</th>\n",
       "      <th>first_frame_min</th>\n",
       "      <th>first_frame_max</th>\n",
       "    </tr>\n",
       "  </thead>\n",
       "  <tbody>\n",
       "    <tr>\n",
       "      <th>0</th>\n",
       "      <td>/data/videos/something-something-v2/preprocess...</td>\n",
       "      <td>240.0</td>\n",
       "      <td>320.0</td>\n",
       "      <td>NaN</td>\n",
       "      <td>0.750000</td>\n",
       "      <td>37.0</td>\n",
       "      <td>130.355838</td>\n",
       "      <td>71.238771</td>\n",
       "      <td>NaN</td>\n",
       "      <td>0.0</td>\n",
       "      <td>255.0</td>\n",
       "    </tr>\n",
       "    <tr>\n",
       "      <th>1</th>\n",
       "      <td>/data/videos/something-something-v2/preprocess...</td>\n",
       "      <td>240.0</td>\n",
       "      <td>427.0</td>\n",
       "      <td>NaN</td>\n",
       "      <td>0.562061</td>\n",
       "      <td>61.0</td>\n",
       "      <td>78.672271</td>\n",
       "      <td>37.705300</td>\n",
       "      <td>NaN</td>\n",
       "      <td>0.0</td>\n",
       "      <td>255.0</td>\n",
       "    </tr>\n",
       "    <tr>\n",
       "      <th>2</th>\n",
       "      <td>/data/videos/something-something-v2/preprocess...</td>\n",
       "      <td>240.0</td>\n",
       "      <td>427.0</td>\n",
       "      <td>NaN</td>\n",
       "      <td>0.562061</td>\n",
       "      <td>45.0</td>\n",
       "      <td>98.768940</td>\n",
       "      <td>40.095602</td>\n",
       "      <td>NaN</td>\n",
       "      <td>0.0</td>\n",
       "      <td>255.0</td>\n",
       "    </tr>\n",
       "    <tr>\n",
       "      <th>3</th>\n",
       "      <td>/data/videos/something-something-v2/preprocess...</td>\n",
       "      <td>240.0</td>\n",
       "      <td>320.0</td>\n",
       "      <td>NaN</td>\n",
       "      <td>0.750000</td>\n",
       "      <td>24.0</td>\n",
       "      <td>123.142995</td>\n",
       "      <td>52.340972</td>\n",
       "      <td>NaN</td>\n",
       "      <td>0.0</td>\n",
       "      <td>255.0</td>\n",
       "    </tr>\n",
       "    <tr>\n",
       "      <th>4</th>\n",
       "      <td>/data/videos/something-something-v2/preprocess...</td>\n",
       "      <td>240.0</td>\n",
       "      <td>427.0</td>\n",
       "      <td>NaN</td>\n",
       "      <td>0.562061</td>\n",
       "      <td>44.0</td>\n",
       "      <td>96.639117</td>\n",
       "      <td>56.877654</td>\n",
       "      <td>NaN</td>\n",
       "      <td>0.0</td>\n",
       "      <td>190.0</td>\n",
       "    </tr>\n",
       "  </tbody>\n",
       "</table>\n",
       "</div>"
      ],
      "text/plain": [
       "                                                path  height  width  shape  \\\n",
       "0  /data/videos/something-something-v2/preprocess...   240.0  320.0    NaN   \n",
       "1  /data/videos/something-something-v2/preprocess...   240.0  427.0    NaN   \n",
       "2  /data/videos/something-something-v2/preprocess...   240.0  427.0    NaN   \n",
       "3  /data/videos/something-something-v2/preprocess...   240.0  320.0    NaN   \n",
       "4  /data/videos/something-something-v2/preprocess...   240.0  427.0    NaN   \n",
       "\n",
       "   aspect_ratio  num_of_frames  first_frame_mean  first_frame_std  \\\n",
       "0      0.750000           37.0        130.355838        71.238771   \n",
       "1      0.562061           61.0         78.672271        37.705300   \n",
       "2      0.562061           45.0         98.768940        40.095602   \n",
       "3      0.750000           24.0        123.142995        52.340972   \n",
       "4      0.562061           44.0         96.639117        56.877654   \n",
       "\n",
       "   first_frame_range  first_frame_min  first_frame_max  \n",
       "0                NaN              0.0            255.0  \n",
       "1                NaN              0.0            255.0  \n",
       "2                NaN              0.0            255.0  \n",
       "3                NaN              0.0            255.0  \n",
       "4                NaN              0.0            190.0  "
      ]
     },
     "execution_count": 15,
     "metadata": {},
     "output_type": "execute_result"
    }
   ],
   "source": [
    "for i, vid_path in enumerate(df['path']):\n",
    "    # read the first frame of the video\n",
    "    im = imread(vid_path + \"/image-001.png\")\n",
    "    df.loc[i,'height'] = int(im.shape[0])\n",
    "    df.loc[i,'width'] = int(im.shape[1])\n",
    "    df.loc[i,'aspect_ratio'] = im.shape[0]/im.shape[1]\n",
    "    df.loc[i, 'num_of_frames'] = int(len(os.listdir(vid_path)))\n",
    "    arr = im.flatten()\n",
    "    df.loc[i, 'first_frame_mean'] = np.mean(arr)\n",
    "    df.loc[i, 'first_frame_std'] = np.std(arr)\n",
    "    df.loc[i, 'first_frame_min'] = np.min(arr)\n",
    "    df.loc[i, 'first_frame_max'] = np.max(arr)\n",
    "    \n",
    "df.head()"
   ]
  },
  {
   "cell_type": "markdown",
   "metadata": {},
   "source": [
    "### 2) Frame resize, center-crop size and data augumentations :  \n",
    " 1) The width or frames vary widely in then range (135, 528) as seen in the histogram below.  \n",
    " 2) The frame resize shall be performed such that frame resize conserves the aspect ratio of the original frames.  \n",
    " 3) Then random-crop the extra-width of the frames (same region cropped for all frames of one video) with a binomial distribution having max probability at the center of the video.  \n",
    " 4) Random horizontal flipping of all frames of an video with 50% probability. However if enabled, some  labels must also be modified appropriately.  \n",
    "(3), (4) from [Karpathy et. al. (2014)](https://arxiv.org/pdf/1503.08909.pdf).   \n",
    "\n",
    "**Follwing from the below analysis, 3 experiments will be performed :**  \n",
    "(also taking into consideration the constraint set by PredNet that width,height must be should-be-divisible-by-2^(layers-1) i.e. divisible by 16)   \n",
    "\n",
    "#### Experiment 1 - (128,160) :   \n",
    "Conserving aspect ratio at the cost of loss of useful sections of the video. almost all videos can be random-cropped\n",
    "\n",
    "| aspect-ratio group| width range | # of videos | portion of dataset | resize by conserving aspect-ratio | random-crop to | side-effects |   \n",
    "|------|------|------|------|------|------|------|\n",
    "|0| < 300    | 971 | 1.86% | remove these videos | - | -|\n",
    "|1| 300 - 419    | 15311| 29.58% | (128,160) to (128,223) | (128,160)| cropped out [0,63] width |\n",
    "|2| >420  | 35652 | 68% | (128,224) to (128,281) | (128,160)| cropped out ~[64,100] width. Might lose useful regions |\n",
    "\n",
    "#### Experiment 2 - (128,224) :    \n",
    "Aspect ratio not conserved for 30% of the videos. useful secions retained. 70% videos can be random-cropped although won't have a lot of effect.\n",
    "\n",
    "| aspect-ratio group| width range | # of videos | portion of dataset | resize | random-crop to | side-effects |   \n",
    "|------|------|------|------|------|------|------|\n",
    "|0| < 300    | 971 | 1.86% | remove these videos | - | -|\n",
    "|1| 300 - 419    | 15311| 29.58% | (128,224) | - | no crop. Aspect size distorted |\n",
    "|2| >420  | 35652 | 68% | (128,224) to (128,281) | (128,224)| cropped out ~[0,30] width. Random crop won't have a large effect|\n",
    "\n",
    "#### Experiment 3 - (128,160) with no random crop\n",
    "\n",
    "#### Experiment 4 - Horizontal flip + best setup among above 3 experiments :    \n",
    "following labels must be modified dynamically if horizontal flip is enabled -    \n",
    "     *'Pulling [something] from right to left'*   \n",
    "     *'Pushing [something] from left to right'*  \n",
    "     *'Pushing [something] from right to left'*   \n",
    "     *'Pulling [something] from left to right'*   \n",
    "     *'Turning the camera right while filming [something]'*  \n",
    "     *'Turning the camera left while filming [something]'*  \n",
    "     \n",
    "| split | number of videos with these labels |\n",
    "|-------|-------|\n",
    "|train  |   9769|\n",
    "|test   |    ?|\n",
    "|val    |    1079|"
   ]
  },
  {
   "cell_type": "code",
   "execution_count": 14,
   "metadata": {},
   "outputs": [
    {
     "data": {
      "image/png": "[encoded data removed]",
      "text/plain": [
       "<Figure size 432x288 with 1 Axes>"
      ]
     },
     "metadata": {
      "needs_background": "light"
     },
     "output_type": "display_data"
    },
    {
     "name": "stdout",
     "output_type": "stream",
     "text": [
      "Width\t num_of_videos\n",
      "300.0        59\n",
      "305.0         1\n",
      "313.0       113\n",
      "319.0         1\n",
      "320.0     44318\n",
      "321.0         1\n",
      "324.0         1\n",
      "327.0         1\n",
      "330.0         1\n",
      "335.0         1\n",
      "339.0         1\n",
      "352.0        29\n",
      "358.0         8\n",
      "359.0         1\n",
      "360.0     20328\n",
      "361.0       365\n",
      "362.0        72\n",
      "379.0         1\n",
      "384.0        42\n",
      "387.0         1\n",
      "400.0      1083\n",
      "408.0         1\n",
      "410.0         2\n",
      "417.0       935\n",
      "420.0         8\n",
      "422.0         3\n",
      "424.0      6331\n",
      "425.0         7\n",
      "426.0       791\n",
      "427.0    128835\n",
      "428.0      1648\n",
      "429.0        21\n",
      "430.0         3\n",
      "432.0      2317\n",
      "433.0         1\n",
      "436.0      4328\n",
      "437.0         2\n",
      "439.0        29\n",
      "447.0         1\n",
      "463.0         4\n",
      "480.0         2\n",
      "483.0         3\n",
      "494.0         8\n",
      "502.0         1\n",
      "528.0         1\n",
      "Name: width, dtype: int64\n"
     ]
    }
   ],
   "source": [
    "y = df['width']\n",
    "ax = y.plot.hist(bins=100, title=\"Width variations\")\n",
    "ax.set_xlabel(\"width of the frames\")\n",
    "plt.show()\n",
    "print(\"Width\\t num_of_videos\\n{}\".format(y.value_counts().sort_index()))"
   ]
  },
  {
   "cell_type": "code",
   "execution_count": 49,
   "metadata": {},
   "outputs": [],
   "source": [
    "df = df.drop(df[df.width < 300].index)\n",
    "df['crop_group'] = 1\n",
    "df.loc[df.width >= 420,'crop_group'] = 2"
   ]
  },
  {
   "cell_type": "markdown",
   "metadata": {},
   "source": [
    "### 3) Other frame-wise pre-processing\n",
    "1) PredNet guys normalize the pixel values to range [0,1] as follows `X.astype(np.float32) / 255`  \n",
    "2) Karpathy et. al. (2014) subtract a constant value of 117 from raw pixel values, which is the approximate value of the mean of all pixels in the frames  \n",
    "\n",
    "**We will go by the first approach as models are known to be more stable when inputs is in the range [0,1] or [-1,1]**"
   ]
  },
  {
   "cell_type": "code",
   "execution_count": 64,
   "metadata": {},
   "outputs": [
    {
     "data": {
      "image/png": "[encoded data removed]",
      "text/plain": [
       "<Figure size 1440x432 with 2 Axes>"
      ]
     },
     "metadata": {
      "needs_background": "light"
     },
     "output_type": "display_data"
    }
   ],
   "source": [
    "f, axs = plt.subplots(ncols=2, figsize=(20,6))\n",
    "m = df['first_frame_mean']\n",
    "m.plot.hist(bins=50, title=\"Distribution of mean values of pixels\", ax=axs[0])\n",
    "axs[0].set_xlabel(\"mean pixel values of the frames\")\n",
    "\n",
    "s = df['first_frame_std']\n",
    "s.plot.hist(bins=50, title=\"Distribution of the standard deviation of pixel values \", ax=axs[1])\n",
    "axs[1].set_xlabel(\"std. deviation of pixel values in the first-frames\")\n",
    "plt.show()"
   ]
  },
  {
   "cell_type": "markdown",
   "metadata": {},
   "source": [
    "### 4) Number of frames per video\n",
    "1) In the baseline something-something paper, they randomly pick 48 consecutive frames. For videos with less than 48 frames, they replicate the first and last frames to achieve the intended length.  \n",
    "2) Most papers sample 10 to 30 consecutive frames at random and train on them.   \n",
    "\n",
    "We are going to test **3 methods** to handle this:  \n",
    "\n",
    "**method1 : Smthsmth baseline paper method**  \n",
    "a) For videos < 48 frames  : replicate the first and last frames.  \n",
    "b) For videos > 48 frames  : sample 48 consecutive frames such that the sampled videos segments are mostly in the center or the end of the whole video (using a binomial probability distribution with mean at len(video)/2.  \n",
    "Both (a) and (b) pushes a prior on our model that the most important activities in the video occur mostly around the central few frames of the video.  \n",
    "\n",
    "**method2 : Reject extremes**\n",
    "a) Reject upper-extremes : Use only the videos with frame-length < 64 (around 16,650 videos)  \n",
    "b) Reject videos with too few i.e. frame-length < 20\n",
    "\n",
    "\n",
    "**method3 : dynamic fps**   \n",
    "a) For videos < 48 frames  : randomly or deterministically duplicate frames in between the video to make it equal to 48  \n",
    "b) For videos > 48 frames  : randomly or deterministically sample non-consecutive frames from the videos such that the total number of frames are always equal to 48"
   ]
  },
  {
   "cell_type": "code",
   "execution_count": 111,
   "metadata": {},
   "outputs": [
    {
     "data": {
      "image/png": "[encoded data removed]",
      "text/plain": [
       "<Figure size 432x288 with 1 Axes>"
      ]
     },
     "metadata": {
      "needs_background": "light"
     },
     "output_type": "display_data"
    },
    {
     "name": "stdout",
     "output_type": "stream",
     "text": [
      "Frame length statistics= count    51934.000000\n",
      "mean        48.094505\n",
      "std         12.728623\n",
      "min          9.000000\n",
      "25%         39.000000\n",
      "50%         49.000000\n",
      "75%         58.000000\n",
      "max        170.000000\n",
      "Name: num_of_frames, dtype: float64\n",
      "Mode of frame lengths = 49\n",
      "Videos with too few frames = 1 (less than 10.0 frames)\n",
      "Videos with too many frames = 10 (more than 86.0 frames)\n"
     ]
    }
   ],
   "source": [
    "z = df['num_of_frames']\n",
    "ax = z.plot.hist(bins=80, title=\"Variations of number of frames per video\")\n",
    "ax.set_xlabel(\"number of frames per video\")\n",
    "plt.show()\n",
    "print(\"Frame length statistics=\",z.describe())\n",
    "print(\"Mode of frame lengths =\",int(z.mode()))\n",
    "left_extreme = (z.mean()-3*z.std())\n",
    "right_extreme = (z.mean()+3*z.std())\n",
    "print(\"Videos with too few frames = {} (less than {} frames)\".format(len(df[z<left_extreme]), round(left_extreme)))\n",
    "print(\"Videos with too many frames = {} (more than {} frames)\".format(len(df[z>right_extreme]), round(right_extreme)))"
   ]
  },
  {
   "cell_type": "code",
   "execution_count": 94,
   "metadata": {},
   "outputs": [],
   "source": [
    "# # resize and crop image\n",
    "# def process_im(im, desired_sz):\n",
    "#     target_ds = float(desired_sz[0])/im.shape[0]\n",
    "#     im = imresize(im, (desired_sz[0], int(np.round(target_ds * im.shape[1]))))\n",
    "#     d = int((im.shape[1] - desired_sz[1]) / 2)\n",
    "#     im = im[:, d:d+desired_sz[1]]\n",
    "#     return im      \n",
    "\n",
    "# test_im = imread(im_list[1])\n",
    "# f, plts = plt.subplots(2,1, figsize=(8,10))\n",
    "# plts[0].imshow(test_im)\n",
    "# plts[0].set_title(\"original\")\n",
    "# test_im_proc = process_im(test_im, desired_im_sz)\n",
    "# plts[1].imshow(test_im_proc)\n",
    "# plts[1].set_title(\"processed\")\n",
    "\n",
    "# test_im_5 = imread(im_list[1].replace(\"001\",\"005\"))\n",
    "# f, plts = plt.subplots(2,1, figsize=(8,10))\n",
    "# plts[0].imshow(test_im_5)\n",
    "# plts[0].set_title(\"original\")\n",
    "# test_im_proc = process_im(test_im_5, desired_im_sz)\n",
    "# plts[1].imshow(test_im_proc)\n",
    "# plts[1].set_title(\"processed\")\n",
    "# plt.show()"
   ]
  },
  {
   "cell_type": "code",
   "execution_count": 8,
   "metadata": {},
   "outputs": [
    {
     "name": "stdout",
     "output_type": "stream",
     "text": [
      "Repeating the analysis on the whole data after running the extract_20bn.py on all the videos.\n",
      "Total videos = 211710\n"
     ]
    },
    {
     "data": {
      "text/html": [
       "<div>\n",
       "<style scoped>\n",
       "    .dataframe tbody tr th:only-of-type {\n",
       "        vertical-align: middle;\n",
       "    }\n",
       "\n",
       "    .dataframe tbody tr th {\n",
       "        vertical-align: top;\n",
       "    }\n",
       "\n",
       "    .dataframe thead th {\n",
       "        text-align: right;\n",
       "    }\n",
       "</style>\n",
       "<table border=\"1\" class=\"dataframe\">\n",
       "  <thead>\n",
       "    <tr style=\"text-align: right;\">\n",
       "      <th></th>\n",
       "      <th>Unnamed: 0</th>\n",
       "      <th>path</th>\n",
       "      <th>split</th>\n",
       "      <th>height</th>\n",
       "      <th>width</th>\n",
       "      <th>aspect_ratio</th>\n",
       "      <th>num_of_frames</th>\n",
       "      <th>first_frame_mean</th>\n",
       "      <th>first_frame_std</th>\n",
       "      <th>first_frame_min</th>\n",
       "      <th>first_frame_max</th>\n",
       "      <th>crop_group</th>\n",
       "    </tr>\n",
       "  </thead>\n",
       "  <tbody>\n",
       "    <tr>\n",
       "      <th>0</th>\n",
       "      <td>0</td>\n",
       "      <td>/data/videos/something-something-v2/preprocess...</td>\n",
       "      <td>train</td>\n",
       "      <td>240.0</td>\n",
       "      <td>436.0</td>\n",
       "      <td>0.550459</td>\n",
       "      <td>49.0</td>\n",
       "      <td>0.351740</td>\n",
       "      <td>0.342476</td>\n",
       "      <td>0.0</td>\n",
       "      <td>1.000000</td>\n",
       "      <td>2</td>\n",
       "    </tr>\n",
       "    <tr>\n",
       "      <th>1</th>\n",
       "      <td>1</td>\n",
       "      <td>/data/videos/something-something-v2/preprocess...</td>\n",
       "      <td>train</td>\n",
       "      <td>240.0</td>\n",
       "      <td>427.0</td>\n",
       "      <td>0.562061</td>\n",
       "      <td>40.0</td>\n",
       "      <td>0.233361</td>\n",
       "      <td>0.255007</td>\n",
       "      <td>0.0</td>\n",
       "      <td>1.000000</td>\n",
       "      <td>2</td>\n",
       "    </tr>\n",
       "    <tr>\n",
       "      <th>2</th>\n",
       "      <td>2</td>\n",
       "      <td>/data/videos/something-something-v2/preprocess...</td>\n",
       "      <td>train</td>\n",
       "      <td>240.0</td>\n",
       "      <td>427.0</td>\n",
       "      <td>0.562061</td>\n",
       "      <td>46.0</td>\n",
       "      <td>0.177431</td>\n",
       "      <td>0.214418</td>\n",
       "      <td>0.0</td>\n",
       "      <td>0.917647</td>\n",
       "      <td>2</td>\n",
       "    </tr>\n",
       "    <tr>\n",
       "      <th>3</th>\n",
       "      <td>3</td>\n",
       "      <td>/data/videos/something-something-v2/preprocess...</td>\n",
       "      <td>train</td>\n",
       "      <td>240.0</td>\n",
       "      <td>427.0</td>\n",
       "      <td>0.562061</td>\n",
       "      <td>34.0</td>\n",
       "      <td>0.442003</td>\n",
       "      <td>0.263495</td>\n",
       "      <td>0.0</td>\n",
       "      <td>1.000000</td>\n",
       "      <td>2</td>\n",
       "    </tr>\n",
       "    <tr>\n",
       "      <th>4</th>\n",
       "      <td>4</td>\n",
       "      <td>/data/videos/something-something-v2/preprocess...</td>\n",
       "      <td>train</td>\n",
       "      <td>240.0</td>\n",
       "      <td>427.0</td>\n",
       "      <td>0.562061</td>\n",
       "      <td>47.0</td>\n",
       "      <td>0.159360</td>\n",
       "      <td>0.225231</td>\n",
       "      <td>0.0</td>\n",
       "      <td>1.000000</td>\n",
       "      <td>2</td>\n",
       "    </tr>\n",
       "  </tbody>\n",
       "</table>\n",
       "</div>"
      ],
      "text/plain": [
       "   Unnamed: 0                                               path  split  \\\n",
       "0           0  /data/videos/something-something-v2/preprocess...  train   \n",
       "1           1  /data/videos/something-something-v2/preprocess...  train   \n",
       "2           2  /data/videos/something-something-v2/preprocess...  train   \n",
       "3           3  /data/videos/something-something-v2/preprocess...  train   \n",
       "4           4  /data/videos/something-something-v2/preprocess...  train   \n",
       "\n",
       "   height  width  aspect_ratio  num_of_frames  first_frame_mean  \\\n",
       "0   240.0  436.0      0.550459           49.0          0.351740   \n",
       "1   240.0  427.0      0.562061           40.0          0.233361   \n",
       "2   240.0  427.0      0.562061           46.0          0.177431   \n",
       "3   240.0  427.0      0.562061           34.0          0.442003   \n",
       "4   240.0  427.0      0.562061           47.0          0.159360   \n",
       "\n",
       "   first_frame_std  first_frame_min  first_frame_max  crop_group  \n",
       "0         0.342476              0.0         1.000000           2  \n",
       "1         0.255007              0.0         1.000000           2  \n",
       "2         0.214418              0.0         0.917647           2  \n",
       "3         0.263495              0.0         1.000000           2  \n",
       "4         0.225231              0.0         1.000000           2  "
      ]
     },
     "metadata": {},
     "output_type": "display_data"
    },
    {
     "data": {
      "image/png": "[encoded data removed]",
      "text/plain": [
       "<Figure size 432x288 with 1 Axes>"
      ]
     },
     "metadata": {
      "needs_background": "light"
     },
     "output_type": "display_data"
    },
    {
     "data": {
      "image/png": "[encoded data removed]",
      "text/plain": [
       "<Figure size 1440x432 with 2 Axes>"
      ]
     },
     "metadata": {
      "needs_background": "light"
     },
     "output_type": "display_data"
    },
    {
     "data": {
      "image/png": "[encoded data removed]",
      "text/plain": [
       "<Figure size 432x288 with 1 Axes>"
      ]
     },
     "metadata": {
      "needs_background": "light"
     },
     "output_type": "display_data"
    },
    {
     "name": "stdout",
     "output_type": "stream",
     "text": [
      "Frame length statistics= count    211710.000000\n",
      "mean         45.917713\n",
      "std          12.654471\n",
      "min           8.000000\n",
      "25%          36.000000\n",
      "50%          46.000000\n",
      "75%          56.000000\n",
      "max         170.000000\n",
      "Name: num_of_frames, dtype: float64\n",
      "Mode of frame lengths = 44\n",
      "Videos with too few frames = 0 (less than 8.0 frames)\n",
      "Videos with too many frames = 16 (more than 84.0 frames)\n"
     ]
    }
   ],
   "source": [
    "df2 = pd.read_csv(data_dir+\"/data.csv\")\n",
    "print(\"Repeating the analysis on the whole data after running the extract_20bn.py on all the videos.\\nTotal videos = {}\".format(len(df2)))\n",
    "display(df2.head())\n",
    "y = df2['width']\n",
    "ax = y.plot.hist(bins=100, title=\"Width variations\")\n",
    "ax.set_xlabel(\"width of the frames\")\n",
    "plt.show()\n",
    "\n",
    "f, axs = plt.subplots(ncols=2, figsize=(20,6))\n",
    "m = df2['first_frame_mean']\n",
    "m.plot.hist(bins=50, title=\"Distribution of mean values of pixels\", ax=axs[0])\n",
    "axs[0].set_xlabel(\"mean pixel values of the frames\")\n",
    "\n",
    "s = df2['first_frame_std']\n",
    "s.plot.hist(bins=50, title=\"Distribution of the standard deviation of pixel values \", ax=axs[1])\n",
    "axs[1].set_xlabel(\"std. deviation of pixel values in the first-frames\")\n",
    "plt.show()\n",
    "\n",
    "z = df2['num_of_frames']\n",
    "ax = z.plot.hist(bins=80, title=\"Variations of number of frames per video\")\n",
    "ax.set_xlabel(\"number of frames per video\")\n",
    "plt.show()\n",
    "\n",
    "print(\"Frame length statistics=\",z.describe())\n",
    "print(\"Mode of frame lengths =\",int(z.mode()))\n",
    "left_extreme = (z.mean()-3*z.std())\n",
    "right_extreme = (z.mean()+3*z.std())\n",
    "print(\"Videos with too few frames = {} (less than {} frames)\".format(len(df2[z<left_extreme]), round(left_extreme)))\n",
    "print(\"Videos with too many frames = {} (more than {} frames)\".format(len(df2[z>right_extreme]), round(right_extreme)))"
   ]
  },
  {
   "cell_type": "code",
   "execution_count": 11,
   "metadata": {},
   "outputs": [
    {
     "name": "stdout",
     "output_type": "stream",
     "text": [
      "Videos with number of frames > 89418 = 48\n",
      "Videos with number of frames < 6645 = 24\n"
     ]
    }
   ],
   "source": [
    "print(\"Videos with number of frames > {} = {}\".format(len(df2[z>64]), 64))\n",
    "print(\"Videos with number of frames < {} = {}\".format(len(df2[z<24]), 24))"
   ]
  },
  {
   "cell_type": "code",
   "execution_count": 4,
   "metadata": {},
   "outputs": [
    {
     "name": "stderr",
     "output_type": "stream",
     "text": [
      "/usr/local/lib/python3.5/dist-packages/IPython/core/interactiveshell.py:3020: DtypeWarning: Columns (11,12,13) have mixed types. Specify dtype option on import or set low_memory=False.\n",
      "  interactivity=interactivity, compiler=compiler, result=result)\n"
     ]
    }
   ],
   "source": [
    "df2 = pd.read_csv(data_dir+\"/data.csv\")"
   ]
  },
  {
   "cell_type": "code",
   "execution_count": 13,
   "metadata": {},
   "outputs": [
    {
     "data": {
      "text/plain": [
       "True     13621\n",
       "False     6379\n",
       "Name: width, dtype: int64"
      ]
     },
     "execution_count": 13,
     "metadata": {},
     "output_type": "execute_result"
    }
   ],
   "source": [
    "(df2[df2.split==\"holdout\"].width>400).value_counts()"
   ]
  },
  {
   "cell_type": "code",
   "execution_count": 12,
   "metadata": {},
   "outputs": [
    {
     "data": {
      "text/plain": [
       "0.3137688347267489"
      ]
     },
     "execution_count": 12,
     "metadata": {},
     "output_type": "execute_result"
    }
   ],
   "source": [
    "66428/(145282+66428)"
   ]
  },
  {
   "cell_type": "code",
   "execution_count": null,
   "metadata": {},
   "outputs": [],
   "source": []
  }
 ],
 "metadata": {
  "kernelspec": {
   "display_name": "Python 3",
   "language": "python",
   "name": "python3"
  },
  "language_info": {
   "codemirror_mode": {
    "name": "ipython",
    "version": 3
   },
   "file_extension": ".py",
   "mimetype": "text/x-python",
   "name": "python",
   "nbconvert_exporter": "python",
   "pygments_lexer": "ipython3",
   "version": "3.5.2"
  }
 },
 "nbformat": 4,
 "nbformat_minor": 2
}
